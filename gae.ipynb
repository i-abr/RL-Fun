{
 "cells": [
  {
   "cell_type": "code",
   "execution_count": null,
   "metadata": {
    "ExecuteTime": {
     "end_time": "2019-04-27T00:59:53.216435Z",
     "start_time": "2019-04-27T00:59:52.958786Z"
    }
   },
   "outputs": [],
   "source": [
    "import autograd.numpy as np\n",
    "import autograd.numpy.random as npr\n",
    "import autograd.scipy.stats.norm as norm\n",
    "from autograd import grad\n",
    "from autograd.misc import flatten\n",
    "\n",
    "from autograd.misc.optimizers import sgd, adam\n",
    "\n",
    "import gym\n",
    "import roboschool"
   ]
  },
  {
   "cell_type": "code",
   "execution_count": null,
   "metadata": {
    "ExecuteTime": {
     "end_time": "2019-04-27T00:59:53.345239Z",
     "start_time": "2019-04-27T00:59:53.217745Z"
    }
   },
   "outputs": [],
   "source": [
    "from IPython.display import clear_output\n",
    "import matplotlib.pyplot as plt\n",
    "%matplotlib inline"
   ]
  },
  {
   "cell_type": "code",
   "execution_count": null,
   "metadata": {
    "ExecuteTime": {
     "end_time": "2019-04-27T00:59:53.582023Z",
     "start_time": "2019-04-27T00:59:53.347065Z"
    }
   },
   "outputs": [],
   "source": [
    "from multiprocessing_env import SubprocVecEnv\n",
    "\n",
    "batch_size = 32\n",
    "# env_name = \"RoboschoolInvertedPendulumSwingup-v1\"\n",
    "env_name = \"RoboschoolInvertedPendulum-v1\"\n",
    "\n",
    "\n",
    "def make_env():\n",
    "    def _thunk():\n",
    "        env = gym.make(env_name)\n",
    "        return env\n",
    "\n",
    "    return _thunk\n",
    "\n",
    "envs = [make_env() for i in range(batch_size)]\n",
    "envs = SubprocVecEnv(envs)\n",
    "\n",
    "env = gym.make(env_name)\n",
    "\n",
    "num_states  = envs.observation_space.shape[0]\n",
    "num_actions = envs.action_space.shape[0]"
   ]
  },
  {
   "cell_type": "code",
   "execution_count": null,
   "metadata": {
    "ExecuteTime": {
     "end_time": "2019-04-27T00:59:53.594000Z",
     "start_time": "2019-04-27T00:59:53.584012Z"
    }
   },
   "outputs": [],
   "source": [
    "def init_param(scale, layer_sizes):#, rs=npr.RandomState(0)):\n",
    "    return [(npr.randn(insize, outsize) * scale, \n",
    "             npr.randn(outsize) * scale)\n",
    "            for insize, outsize in zip(layer_sizes[:-1], layer_sizes[1:])]\n",
    "\n",
    "def nonlin(x):\n",
    "    return np.maximum(x,0.)\n",
    "\n",
    "def actor_critic(params, x): # policy function\n",
    "    \n",
    "    mean_params = params['mean_params']\n",
    "    std_params = params['std_params']\n",
    "    value_params = params['value_params']\n",
    "    \n",
    "    mean = x\n",
    "    for W, b in mean_params[:-1]:\n",
    "        mean = np.dot(mean, W) + b\n",
    "        mean = nonlin(mean)\n",
    "    W, b = mean_params[-1]\n",
    "    mean = np.dot(mean, W) + b\n",
    "\n",
    "    log_std = x\n",
    "    for W, b in std_params[:-1]:\n",
    "        log_std = np.dot(log_std, W) + b\n",
    "        log_std = nonlin(log_std)\n",
    "    W, b = std_params[-1]\n",
    "    log_std = np.dot(log_std, W) + b\n",
    "    std = np.exp(log_std)\n",
    "#     std = np.exp(log_std)/np.sum(np.exp(log_std),0)\n",
    "\n",
    "    value = x\n",
    "    for W, b in value_params[:-1]:\n",
    "        value = np.dot(value, W) + b\n",
    "        value = nonlin(value)\n",
    "    W, b = value_params[-1]\n",
    "    value = np.dot(value, W) + b\n",
    "    \n",
    "    return mean, np.exp(log_std), value\n",
    "\n",
    "\n",
    "mean_policy_sizes = [num_states] + [128, 128] + [num_actions]\n",
    "std_policy_sizes = [num_states] + [128, 128] + [num_actions]\n",
    "value_sizes = [num_states] + [128, 128] + [1]\n",
    "\n",
    "params= {\n",
    "    'mean_params' : init_param(0.1, mean_policy_sizes),\n",
    "    'std_params' : init_param(0., mean_policy_sizes),\n",
    "    'value_params' : init_param(0.1, value_sizes)\n",
    "}\n",
    "# params.update({'std_params' : \n",
    "#                [[np.ones((num_states, num_actions))*0., np.zeros(num_actions)]],\n",
    "#               })"
   ]
  },
  {
   "cell_type": "code",
   "execution_count": null,
   "metadata": {
    "ExecuteTime": {
     "end_time": "2019-04-27T00:59:53.615207Z",
     "start_time": "2019-04-27T00:59:53.597445Z"
    }
   },
   "outputs": [],
   "source": [
    "def compute_gae(next_value, rewards, masks, values, \n",
    "                        gamma=0.99, tau=0.95):\n",
    "    values = values + [next_value]\n",
    "    gae = 0\n",
    "    returns = []\n",
    "    for step in reversed(range(len(rewards))):\n",
    "        delta = rewards[step] + gamma * values[step + 1] * masks[step] - values[step]\n",
    "        gae = delta + gamma * tau * masks[step] * gae\n",
    "        returns.insert(0, gae + values[step])\n",
    "    return returns\n",
    "\n",
    "def test_compute_gae(final_value, rewards, masks, values, \n",
    "                        gamma=0.99, tau=0.95):\n",
    "    gae = 0\n",
    "    returns = np.zeros_like(rewards)\n",
    "    for t in reversed(range(tf)):\n",
    "        \n",
    "        delta = rewards[:, t] \\\n",
    "                + (gamma * values[:,t+1] * masks[:,t] - values[:,t]\n",
    "                   if t+1 < tf else final_value)\n",
    "        gae = delta + gamma * tau * masks[:,t] * gae\n",
    "        returns[:, t] = gae + values[:, t]\n",
    "    return returns\n"
   ]
  },
  {
   "cell_type": "code",
   "execution_count": null,
   "metadata": {
    "ExecuteTime": {
     "end_time": "2019-04-27T00:59:53.625185Z",
     "start_time": "2019-04-27T00:59:53.618646Z"
    }
   },
   "outputs": [],
   "source": [
    "def logprob_mse(x, states, actions, rtgs, advantage):\n",
    "    params, _ = flatten(x)\n",
    "    mean, std, value = actor_critic(x, states)\n",
    "    value = np.concatenate(value).reshape((-1,1))\n",
    "    logpdf = norm.logpdf(mean, actions, std)\n",
    "    logpdf = np.concatenate(logpdf)\n",
    "    value_err = np.mean(np.square(rtgs - value))\n",
    "    advantage = np.concatenate(advantage).reshape((-1,1))\n",
    "    return -np.mean(logpdf * advantage) \\\n",
    "            + 0.5 * value_err\n",
    "grad_logprob_mse = grad(logprob_mse)"
   ]
  },
  {
   "cell_type": "code",
   "execution_count": null,
   "metadata": {
    "ExecuteTime": {
     "end_time": "2019-04-27T00:59:53.633924Z",
     "start_time": "2019-04-27T00:59:53.627268Z"
    }
   },
   "outputs": [],
   "source": [
    "def callback(x, i, g):\n",
    "    if i*tf % 1000 == 0:\n",
    "        g_flat, _ = flatten(g)\n",
    "        rew = 0.\n",
    "        state = env.reset()\n",
    "        for t in range(tf):\n",
    "            mean, std, value = actor_critic(x, state)\n",
    "            state, reward, done, _ = env.step(mean)\n",
    "            env.render()\n",
    "            if done : break\n",
    "            rew += reward\n",
    "        reward_history.append(rew)\n",
    "        plot(i*tf, reward_history)\n",
    "        print('iter : {}, tot rew : {}, grad norm : {}'.format(i*tf, rew, np.linalg.norm(g_flat)))\n",
    "def plot(frame_idx, rewards):\n",
    "    clear_output(True)\n",
    "    plt.figure(figsize=(20,5))\n",
    "    plt.subplot(131)\n",
    "    plt.title('frame %s. reward: %s' % (frame_idx, rewards[-1]))\n",
    "    plt.plot(rewards)\n",
    "    plt.show()"
   ]
  },
  {
   "cell_type": "code",
   "execution_count": null,
   "metadata": {
    "ExecuteTime": {
     "end_time": "2019-04-27T01:01:15.267424Z",
     "start_time": "2019-04-27T00:59:53.635764Z"
    }
   },
   "outputs": [],
   "source": [
    "tf = 200\n",
    "frame_idx = 0\n",
    "reward_history = []\n",
    "\n",
    "def update(params, k):\n",
    "    actions = np.zeros((batch_size, tf, num_actions))\n",
    "    states = np.zeros((batch_size, tf, num_states))\n",
    "    rewards = np.zeros((batch_size, tf))\n",
    "    values = np.zeros((batch_size, tf))\n",
    "    masks = np.zeros((batch_size, tf))\n",
    "\n",
    "    state = envs.reset()\n",
    "    for t in range(tf):\n",
    "        mean, std, value = actor_critic(params, state)\n",
    "        sampled_action = npr.normal(mean, std)\n",
    "\n",
    "        values[:, t] = value[0]\n",
    "        actions[:, t, :] = sampled_action\n",
    "        states[:, t, :] = state\n",
    "\n",
    "        state, reward, done, _ = envs.step(sampled_action)\n",
    "        rewards[:, t] = reward \n",
    "        masks[:, t] = 1-done\n",
    "\n",
    "    # get the last state\n",
    "    _, _, final_value = actor_critic(params, state)\n",
    "\n",
    "    # compute cost-to-go\n",
    "    rtgs = test_compute_gae(final_value[0], rewards, masks, values)\n",
    "    advantage = rtgs - values\n",
    "\n",
    "    advantage = np.concatenate(advantage).reshape((-1,1))\n",
    "    rtgs = np.concatenate(rtgs).reshape((-1,1))\n",
    "\n",
    "    return grad_logprob_mse(params, states, actions, rtgs, advantage)\n",
    "\n",
    "\n",
    "params = sgd(update, params, \n",
    "             num_iters=500,\n",
    "             callback=callback, \n",
    "             step_size=1e-2)\n"
   ]
  },
  {
   "cell_type": "code",
   "execution_count": null,
   "metadata": {
    "ExecuteTime": {
     "end_time": "2019-04-27T01:01:15.270307Z",
     "start_time": "2019-04-27T00:59:52.971Z"
    }
   },
   "outputs": [],
   "source": [
    "state = env.reset()\n",
    "for t in range(tf):\n",
    "    mean, std, value = actor_critic(params, state)\n",
    "    sampled_action = npr.normal(mean, std)\n",
    "    state, reward, done, _ = env.step(mean)\n"
   ]
  },
  {
   "cell_type": "code",
   "execution_count": null,
   "metadata": {
    "ExecuteTime": {
     "end_time": "2019-04-27T01:01:15.271771Z",
     "start_time": "2019-04-27T00:59:52.973Z"
    }
   },
   "outputs": [],
   "source": [
    "state = env.reset()\n",
    "\n",
    "mean, std, value = actor_critic(params, state)\n",
    "sampled_action = npr.normal(mean, std)\n",
    "#     state, reward, done, _ = env.step(mean)"
   ]
  },
  {
   "cell_type": "code",
   "execution_count": null,
   "metadata": {
    "ExecuteTime": {
     "end_time": "2019-04-27T01:01:15.272822Z",
     "start_time": "2019-04-27T00:59:52.976Z"
    }
   },
   "outputs": [],
   "source": [
    "norm.logpdf(mean, sampled_action, 10000000*std)"
   ]
  },
  {
   "cell_type": "code",
   "execution_count": null,
   "metadata": {},
   "outputs": [],
   "source": []
  }
 ],
 "metadata": {
  "kernelspec": {
   "display_name": "Python 3",
   "language": "python",
   "name": "python3"
  },
  "language_info": {
   "codemirror_mode": {
    "name": "ipython",
    "version": 3
   },
   "file_extension": ".py",
   "mimetype": "text/x-python",
   "name": "python",
   "nbconvert_exporter": "python",
   "pygments_lexer": "ipython3",
   "version": "3.6.7"
  },
  "toc": {
   "base_numbering": 1,
   "nav_menu": {},
   "number_sections": true,
   "sideBar": true,
   "skip_h1_title": true,
   "title_cell": "Table of Contents",
   "title_sidebar": "Contents",
   "toc_cell": false,
   "toc_position": {},
   "toc_section_display": true,
   "toc_window_display": false
  }
 },
 "nbformat": 4,
 "nbformat_minor": 2
}
