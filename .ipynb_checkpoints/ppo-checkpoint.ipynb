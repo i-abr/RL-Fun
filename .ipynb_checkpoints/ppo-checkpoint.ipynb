{
 "cells": [
  {
   "cell_type": "code",
   "execution_count": 1,
   "metadata": {
    "ExecuteTime": {
     "end_time": "2019-04-29T17:51:27.107421Z",
     "start_time": "2019-04-29T17:51:26.864049Z"
    }
   },
   "outputs": [],
   "source": [
    "import autograd.numpy as np\n",
    "import autograd.numpy.random as npr\n",
    "import autograd.scipy.stats.norm as norm\n",
    "from autograd import grad\n",
    "from autograd.misc import flatten\n",
    "\n",
    "from autograd.misc.optimizers import SGD\n",
    "\n",
    "import gym\n",
    "import roboschool"
   ]
  },
  {
   "cell_type": "code",
   "execution_count": 2,
   "metadata": {
    "ExecuteTime": {
     "end_time": "2019-04-29T17:51:27.249228Z",
     "start_time": "2019-04-29T17:51:27.109007Z"
    }
   },
   "outputs": [],
   "source": [
    "from IPython.display import clear_output\n",
    "import matplotlib.pyplot as plt\n",
    "%matplotlib inline"
   ]
  },
  {
   "cell_type": "code",
   "execution_count": 3,
   "metadata": {
    "ExecuteTime": {
     "end_time": "2019-04-29T17:51:27.302722Z",
     "start_time": "2019-04-29T17:51:27.250944Z"
    }
   },
   "outputs": [
    {
     "name": "stderr",
     "output_type": "stream",
     "text": [
      "/home/anon/src/gym/gym/logger.py:30: UserWarning: \u001b[33mWARN: gym.spaces.Box autodetected dtype as <class 'numpy.float32'>. Please provide explicit dtype.\u001b[0m\n",
      "  warnings.warn(colorize('%s: %s'%('WARN', msg % args), 'yellow'))\n",
      "/home/anon/src/gym/gym/logger.py:30: UserWarning: \u001b[33mWARN: Environment '<class 'roboschool.gym_pendulums.RoboschoolInvertedPendulumSwingup'>' has deprecated methods '_step' and '_reset' rather than 'step' and 'reset'. Compatibility code invoked. Set _gym_disable_underscore_compat = True to disable this behavior.\u001b[0m\n",
      "  warnings.warn(colorize('%s: %s'%('WARN', msg % args), 'yellow'))\n",
      "/home/anon/src/gym/gym/logger.py:30: UserWarning: \u001b[33mWARN: gym.spaces.Box autodetected dtype as <class 'numpy.float32'>. Please provide explicit dtype.\u001b[0m\n",
      "  warnings.warn(colorize('%s: %s'%('WARN', msg % args), 'yellow'))\n",
      "/home/anon/src/gym/gym/logger.py:30: UserWarning: \u001b[33mWARN: Environment '<class 'roboschool.gym_pendulums.RoboschoolInvertedPendulumSwingup'>' has deprecated methods '_step' and '_reset' rather than 'step' and 'reset'. Compatibility code invoked. Set _gym_disable_underscore_compat = True to disable this behavior.\u001b[0m\n",
      "  warnings.warn(colorize('%s: %s'%('WARN', msg % args), 'yellow'))\n",
      "/home/anon/src/gym/gym/logger.py:30: UserWarning: \u001b[33mWARN: gym.spaces.Box autodetected dtype as <class 'numpy.float32'>. Please provide explicit dtype.\u001b[0m\n",
      "  warnings.warn(colorize('%s: %s'%('WARN', msg % args), 'yellow'))\n",
      "/home/anon/src/gym/gym/logger.py:30: UserWarning: \u001b[33mWARN: Environment '<class 'roboschool.gym_pendulums.RoboschoolInvertedPendulumSwingup'>' has deprecated methods '_step' and '_reset' rather than 'step' and 'reset'. Compatibility code invoked. Set _gym_disable_underscore_compat = True to disable this behavior.\u001b[0m\n",
      "  warnings.warn(colorize('%s: %s'%('WARN', msg % args), 'yellow'))\n",
      "/home/anon/src/gym/gym/logger.py:30: UserWarning: \u001b[33mWARN: gym.spaces.Box autodetected dtype as <class 'numpy.float32'>. Please provide explicit dtype.\u001b[0m\n",
      "  warnings.warn(colorize('%s: %s'%('WARN', msg % args), 'yellow'))\n",
      "/home/anon/src/gym/gym/logger.py:30: UserWarning: \u001b[33mWARN: Environment '<class 'roboschool.gym_pendulums.RoboschoolInvertedPendulumSwingup'>' has deprecated methods '_step' and '_reset' rather than 'step' and 'reset'. Compatibility code invoked. Set _gym_disable_underscore_compat = True to disable this behavior.\u001b[0m\n",
      "  warnings.warn(colorize('%s: %s'%('WARN', msg % args), 'yellow'))\n",
      "/home/anon/src/gym/gym/logger.py:30: UserWarning: \u001b[33mWARN: gym.spaces.Box autodetected dtype as <class 'numpy.float32'>. Please provide explicit dtype.\u001b[0m\n",
      "  warnings.warn(colorize('%s: %s'%('WARN', msg % args), 'yellow'))\n",
      "/home/anon/src/gym/gym/logger.py:30: UserWarning: \u001b[33mWARN: Environment '<class 'roboschool.gym_pendulums.RoboschoolInvertedPendulumSwingup'>' has deprecated methods '_step' and '_reset' rather than 'step' and 'reset'. Compatibility code invoked. Set _gym_disable_underscore_compat = True to disable this behavior.\u001b[0m\n",
      "  warnings.warn(colorize('%s: %s'%('WARN', msg % args), 'yellow'))\n",
      "/home/anon/src/gym/gym/logger.py:30: UserWarning: \u001b[33mWARN: gym.spaces.Box autodetected dtype as <class 'numpy.float32'>. Please provide explicit dtype.\u001b[0m\n",
      "  warnings.warn(colorize('%s: %s'%('WARN', msg % args), 'yellow'))\n",
      "/home/anon/src/gym/gym/logger.py:30: UserWarning: \u001b[33mWARN: gym.spaces.Box autodetected dtype as <class 'numpy.float32'>. Please provide explicit dtype.\u001b[0m\n",
      "  warnings.warn(colorize('%s: %s'%('WARN', msg % args), 'yellow'))\n",
      "/home/anon/src/gym/gym/logger.py:30: UserWarning: \u001b[33mWARN: Environment '<class 'roboschool.gym_pendulums.RoboschoolInvertedPendulumSwingup'>' has deprecated methods '_step' and '_reset' rather than 'step' and 'reset'. Compatibility code invoked. Set _gym_disable_underscore_compat = True to disable this behavior.\u001b[0m\n",
      "  warnings.warn(colorize('%s: %s'%('WARN', msg % args), 'yellow'))\n",
      "/home/anon/src/gym/gym/logger.py:30: UserWarning: \u001b[33mWARN: Environment '<class 'roboschool.gym_pendulums.RoboschoolInvertedPendulumSwingup'>' has deprecated methods '_step' and '_reset' rather than 'step' and 'reset'. Compatibility code invoked. Set _gym_disable_underscore_compat = True to disable this behavior.\u001b[0m\n",
      "  warnings.warn(colorize('%s: %s'%('WARN', msg % args), 'yellow'))\n",
      "/home/anon/src/gym/gym/logger.py:30: UserWarning: \u001b[33mWARN: gym.spaces.Box autodetected dtype as <class 'numpy.float32'>. Please provide explicit dtype.\u001b[0m\n",
      "  warnings.warn(colorize('%s: %s'%('WARN', msg % args), 'yellow'))\n",
      "/home/anon/src/gym/gym/logger.py:30: UserWarning: \u001b[33mWARN: gym.spaces.Box autodetected dtype as <class 'numpy.float32'>. Please provide explicit dtype.\u001b[0m\n",
      "  warnings.warn(colorize('%s: %s'%('WARN', msg % args), 'yellow'))\n",
      "/home/anon/src/gym/gym/logger.py:30: UserWarning: \u001b[33mWARN: Environment '<class 'roboschool.gym_pendulums.RoboschoolInvertedPendulumSwingup'>' has deprecated methods '_step' and '_reset' rather than 'step' and 'reset'. Compatibility code invoked. Set _gym_disable_underscore_compat = True to disable this behavior.\u001b[0m\n",
      "  warnings.warn(colorize('%s: %s'%('WARN', msg % args), 'yellow'))\n",
      "/home/anon/src/gym/gym/logger.py:30: UserWarning: \u001b[33mWARN: Environment '<class 'roboschool.gym_pendulums.RoboschoolInvertedPendulumSwingup'>' has deprecated methods '_step' and '_reset' rather than 'step' and 'reset'. Compatibility code invoked. Set _gym_disable_underscore_compat = True to disable this behavior.\u001b[0m\n",
      "  warnings.warn(colorize('%s: %s'%('WARN', msg % args), 'yellow'))\n"
     ]
    }
   ],
   "source": [
    "from multiprocessing_env import SubprocVecEnv\n",
    "\n",
    "batch_size = 8\n",
    "env_name = \"RoboschoolInvertedPendulumSwingup-v1\"\n",
    "# env_name = \"RoboschoolInvertedPendulum-v1\"\n",
    "\n",
    "\n",
    "def make_env():\n",
    "    def _thunk():\n",
    "        env = gym.make(env_name)\n",
    "        return env\n",
    "\n",
    "    return _thunk\n",
    "\n",
    "envs = [make_env() for i in range(batch_size)]\n",
    "envs = SubprocVecEnv(envs)\n",
    "\n",
    "env = gym.make(env_name)\n",
    "\n",
    "num_states  = envs.observation_space.shape[0]\n",
    "num_actions = envs.action_space.shape[0]"
   ]
  },
  {
   "cell_type": "code",
   "execution_count": 4,
   "metadata": {
    "ExecuteTime": {
     "end_time": "2019-04-29T17:51:27.316977Z",
     "start_time": "2019-04-29T17:51:27.305617Z"
    }
   },
   "outputs": [],
   "source": [
    "def init_param(scale, layer_sizes):#, rs=npr.RandomState(0)):\n",
    "    return [[npr.randn(insize, outsize) * scale, \n",
    "             npr.randn(outsize) * scale]\n",
    "            for insize, outsize in zip(layer_sizes[:-1], layer_sizes[1:])]\n",
    "\n",
    "def nonlin(x):\n",
    "    return np.maximum(x,0.)\n",
    "\n",
    "def actor_critic(params, x): # policy function\n",
    "    \n",
    "    mean_params = params['mean_params']\n",
    "    std_params = params['std_params']\n",
    "    value_params = params['value_params']\n",
    "    \n",
    "    mean = x\n",
    "    for W, b in mean_params[:-1]:\n",
    "        mean = np.dot(mean, W) + b\n",
    "        mean = nonlin(mean)\n",
    "    W, b = mean_params[-1]\n",
    "    mean = np.dot(mean, W) + b\n",
    "\n",
    "    log_std = x\n",
    "    for W, b in std_params[:-1]:\n",
    "        log_std = np.dot(log_std, W) + b\n",
    "        log_std = nonlin(log_std)\n",
    "    W, b = std_params[-1]\n",
    "    log_std = np.dot(log_std, W) + b\n",
    "    std = np.exp(log_std)\n",
    "\n",
    "    value = x\n",
    "    for W, b in value_params[:-1]:\n",
    "        value = np.dot(value, W) + b\n",
    "        value = nonlin(value)\n",
    "    W, b = value_params[-1]\n",
    "    value = np.dot(value, W) + b\n",
    "    \n",
    "    return mean, np.exp(log_std), value\n",
    "\n",
    "\n",
    "mean_policy_sizes = [num_states] + [128, 128] + [num_actions]\n",
    "std_policy_sizes = [num_states] + [128, 128] + [num_actions]\n",
    "value_sizes = [num_states] + [128, 128] + [1]\n",
    "\n",
    "params= {\n",
    "    'mean_params' : init_param(0.1, mean_policy_sizes),\n",
    "    'std_params' : init_param(0., mean_policy_sizes),\n",
    "    'value_params' : init_param(0.1, value_sizes)\n",
    "}\n"
   ]
  },
  {
   "cell_type": "code",
   "execution_count": 5,
   "metadata": {
    "ExecuteTime": {
     "end_time": "2019-04-29T17:51:27.324008Z",
     "start_time": "2019-04-29T17:51:27.318896Z"
    }
   },
   "outputs": [],
   "source": [
    "def compute_gae(final_value, rewards, masks, values, \n",
    "                        gamma=0.99, tau=0.95):\n",
    "    gae = 0\n",
    "    returns = np.zeros_like(rewards)\n",
    "    for t in reversed(range(tf)):\n",
    "        vpo = values[:, t+1] if t+1 < tf else final_value\n",
    "        delta = rewards[:, t] + gamma * vpo * masks[:,t] - values[:,t]\n",
    "        gae = delta + gamma * tau * masks[:,t] * gae\n",
    "        returns[:, t] = gae + values[:, t]\n",
    "    return returns\n"
   ]
  },
  {
   "cell_type": "code",
   "execution_count": 6,
   "metadata": {
    "ExecuteTime": {
     "end_time": "2019-04-29T17:51:27.331235Z",
     "start_time": "2019-04-29T17:51:27.325591Z"
    }
   },
   "outputs": [],
   "source": [
    "def ppo_iter(mini_batch_size, states, actions, log_probs, returns, advantage):\n",
    "    batch_size = states.shape[0]\n",
    "    for _ in range(batch_size // mini_batch_size):\n",
    "        rand_ids = npr.randint(0, batch_size, mini_batch_size)\n",
    "        yield states[rand_ids, :], actions[rand_ids, :], log_probs[rand_ids, :], \\\n",
    "                                        returns[rand_ids, :], advantage[rand_ids, :]"
   ]
  },
  {
   "cell_type": "code",
   "execution_count": 7,
   "metadata": {
    "ExecuteTime": {
     "end_time": "2019-04-29T17:51:27.341100Z",
     "start_time": "2019-04-29T17:51:27.333784Z"
    }
   },
   "outputs": [],
   "source": [
    "def loss(x, states, actions, old_log_probs, rtgs, advantage, clip_param=0.2):\n",
    "    mean, std, value = actor_critic(x, states)\n",
    "    value = np.concatenate(value).reshape((-1,1))\n",
    "    new_log_probs = norm.logpdf(mean, actions, std)\n",
    "    \n",
    "    ratio = np.concatenate(np.exp(new_log_probs - old_log_probs)).reshape((-1,1))\n",
    "    surr1 = ratio * advantage\n",
    "    surr2 = np.clip(ratio, 1.0 - clip_param, 1.0 + clip_param) * advantage\n",
    "    \n",
    "    actor_loss = -np.mean(np.minimum(surr1, surr2))\n",
    "    critic_loss = np.mean(np.square(rtgs - value))\n",
    "    return actor_loss + 0.5 * critic_loss\n",
    "    \n",
    "grad_loss = grad(loss)"
   ]
  },
  {
   "cell_type": "code",
   "execution_count": null,
   "metadata": {
    "ExecuteTime": {
     "start_time": "2019-04-29T17:51:26.873Z"
    }
   },
   "outputs": [],
   "source": [
    "\n",
    "def ppo_update(ppo_epochs, mini_batch_size, states, actions, log_probs, returns, advantages, clip_param=0.2):\n",
    "    for _ in range(ppo_epochs):\n",
    "        for state, action, old_log_probs, return_, advantage in ppo_iter(mini_batch_size, states, actions, log_probs, returns, advantages):\n",
    "            dist, value = model(state)\n",
    "            entropy = dist.entropy().mean()\n",
    "            new_log_probs = dist.log_prob(action)\n",
    "\n",
    "            ratio = (new_log_probs - old_log_probs).exp()\n",
    "            surr1 = ratio * advantage\n",
    "            surr2 = torch.clamp(ratio, 1.0 - clip_param, 1.0 + clip_param) * advantage\n",
    "\n",
    "            actor_loss  = - torch.min(surr1, surr2).mean()\n",
    "            critic_loss = (return_ - value).pow(2).mean()\n",
    "\n",
    "            loss = 0.5 * critic_loss + actor_loss - 0.001 * entropy\n",
    "\n",
    "            optimizer.zero_grad()\n",
    "            loss.backward()\n",
    "            optimizer.step()"
   ]
  },
  {
   "cell_type": "code",
   "execution_count": null,
   "metadata": {
    "ExecuteTime": {
     "start_time": "2019-04-29T17:51:26.875Z"
    }
   },
   "outputs": [],
   "source": [
    "def plot(frame_idx, rewards):\n",
    "    clear_output(True)\n",
    "    plt.figure(figsize=(20,5))\n",
    "    plt.subplot(131)\n",
    "    plt.title('frame %s. reward: %s' % (frame_idx, rewards[-1]))\n",
    "    plt.plot(rewards)\n",
    "    plt.show()\n",
    "def test_env(vis=False):\n",
    "    state = env.reset()\n",
    "    if vis: env.render()\n",
    "    done = False\n",
    "    total_reward = 0\n",
    "    for _ in range(400):\n",
    "        mean, std, value = actor_critic(params, state)\n",
    "        sampled_action = npr.normal(mean, std)\n",
    "        next_state, reward, done, _ = env.step(sampled_action)\n",
    "        if done: break\n",
    "        state = next_state\n",
    "        if vis: env.render()\n",
    "        total_reward += reward\n",
    "    return total_reward"
   ]
  },
  {
   "cell_type": "code",
   "execution_count": null,
   "metadata": {
    "ExecuteTime": {
     "start_time": "2019-04-29T17:51:26.877Z"
    }
   },
   "outputs": [],
   "source": [
    "def callback(x, g, i):\n",
    "    pass\n",
    "    #print(i, np.linalg.norm(g))"
   ]
  },
  {
   "cell_type": "code",
   "execution_count": null,
   "metadata": {
    "ExecuteTime": {
     "start_time": "2019-04-29T17:51:26.878Z"
    }
   },
   "outputs": [],
   "source": [
    "tf = 400\n",
    "ppo_epochs = 4\n",
    "mini_batch_size = 100\n",
    "reward_history = []\n",
    "max_frame_idx = 20000\n",
    "threshold_reward = 10\n",
    "optimizer = SGD(params, step_size=3e-4, callback=callback)"
   ]
  },
  {
   "cell_type": "code",
   "execution_count": null,
   "metadata": {
    "ExecuteTime": {
     "start_time": "2019-04-29T17:51:26.881Z"
    },
    "scrolled": true
   },
   "outputs": [
    {
     "data": {
      "image/png": "[encoded data removed]",
      "text/plain": [
       "<Figure size 1440x360 with 1 Axes>"
      ]
     },
     "metadata": {
      "needs_background": "light"
     },
     "output_type": "display_data"
    }
   ],
   "source": [
    "\n",
    "frame_idx = 0\n",
    "early_stop = False\n",
    "while frame_idx < max_frame_idx and not early_stop:\n",
    "\n",
    "    actions = np.zeros((batch_size, tf, num_actions))\n",
    "    states = np.zeros((batch_size, tf, num_states))\n",
    "    log_probs = np.zeros((batch_size, tf, num_actions))\n",
    "    rewards = np.zeros((batch_size, tf))\n",
    "    values = np.zeros((batch_size, tf))\n",
    "    masks = np.zeros((batch_size, tf))\n",
    "\n",
    "    state = envs.reset()\n",
    "    episode_rew = 0\n",
    "    for t in range(tf):\n",
    "        mean, std, value = actor_critic(params, state)\n",
    "        sampled_action = npr.normal(mean, std)\n",
    "        log_prob = norm.logpdf(mean, sampled_action, std)\n",
    "\n",
    "        values[:, t] = value.squeeze()\n",
    "        actions[:, t, :] = sampled_action\n",
    "        log_probs[:, t, :] = log_prob\n",
    "        states[:, t, :] = state\n",
    "\n",
    "        state, reward, done, _ = envs.step(sampled_action)\n",
    "        rewards[:, t] = reward \n",
    "        masks[:, t] = 1-done\n",
    "        \n",
    "        episode_rew += np.mean(reward)\n",
    "        frame_idx += 1\n",
    "        if frame_idx % 1000 == 0:\n",
    "            test_reward = np.mean([test_env(False) for _ in range(batch_size)])\n",
    "            reward_history.append(test_reward)\n",
    "            plot(frame_idx, reward_history)\n",
    "            if test_reward > threshold_reward: early_stop = True\n",
    "    # get the last state\n",
    "    _, _, final_value = actor_critic(params, state)\n",
    "        \n",
    "    # compute cost-to-go\n",
    "    rtgs = compute_gae(final_value.squeeze(), rewards, masks, values)\n",
    "    advantage = rtgs - values\n",
    "    \n",
    "    rtgs = np.concatenate(rtgs).reshape((-1,1))\n",
    "    advantage = np.concatenate(advantage).reshape((-1,1))\n",
    "    log_probs = np.concatenate(log_probs)\n",
    "    states = np.concatenate(states)\n",
    "    actions = np.concatenate(actions)\n",
    "    \n",
    "    for _ in range(ppo_epochs):\n",
    "\n",
    "        for _states, _actions, _old_log_probs, _rtgs, _advantage \\\n",
    "                    in ppo_iter(mini_batch_size, states, actions, log_probs, rtgs, advantage):\n",
    "            update = lambda x, i : grad_loss(x, _states, _actions, _old_log_probs, _rtgs, _advantage)\n",
    "            params = optimizer.step(update, params)\n",
    "\n"
   ]
  },
  {
   "cell_type": "code",
   "execution_count": null,
   "metadata": {
    "ExecuteTime": {
     "start_time": "2019-04-29T17:51:26.882Z"
    }
   },
   "outputs": [],
   "source": [
    "state = env.reset()\n",
    "for t in range(tf):\n",
    "    mean, std, value = actor_critic(params, state)\n",
    "    sampled_action = npr.normal(mean, std)\n",
    "    state, reward, done, _ = env.step(mean)\n",
    "    env.render()\n"
   ]
  }
 ],
 "metadata": {
  "kernelspec": {
   "display_name": "Python 3",
   "language": "python",
   "name": "python3"
  },
  "language_info": {
   "codemirror_mode": {
    "name": "ipython",
    "version": 3
   },
   "file_extension": ".py",
   "mimetype": "text/x-python",
   "name": "python",
   "nbconvert_exporter": "python",
   "pygments_lexer": "ipython3",
   "version": "3.6.7"
  },
  "toc": {
   "base_numbering": 1,
   "nav_menu": {},
   "number_sections": true,
   "sideBar": true,
   "skip_h1_title": true,
   "title_cell": "Table of Contents",
   "title_sidebar": "Contents",
   "toc_cell": false,
   "toc_position": {},
   "toc_section_display": true,
   "toc_window_display": false
  }
 },
 "nbformat": 4,
 "nbformat_minor": 2
}
