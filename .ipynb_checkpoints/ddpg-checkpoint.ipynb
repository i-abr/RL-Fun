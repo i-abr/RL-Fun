{
 "cells": [
  {
   "cell_type": "code",
   "execution_count": 1,
   "metadata": {
    "ExecuteTime": {
     "end_time": "2019-04-27T19:05:40.626388Z",
     "start_time": "2019-04-27T19:05:40.386272Z"
    }
   },
   "outputs": [],
   "source": [
    "import random\n",
    "from copy import deepcopy\n",
    "import autograd.numpy as np\n",
    "import autograd.numpy.random as npr\n",
    "import autograd.scipy.stats.norm as norm\n",
    "from autograd import grad\n",
    "from autograd.misc import flatten\n",
    "\n",
    "from autograd.misc.optimizers import sgd, adam\n",
    "\n",
    "import gym\n",
    "import roboschool"
   ]
  },
  {
   "cell_type": "code",
   "execution_count": 2,
   "metadata": {
    "ExecuteTime": {
     "end_time": "2019-04-27T19:05:40.757111Z",
     "start_time": "2019-04-27T19:05:40.628110Z"
    }
   },
   "outputs": [],
   "source": [
    "from IPython.display import clear_output\n",
    "import matplotlib.pyplot as plt\n",
    "%matplotlib inline"
   ]
  },
  {
   "cell_type": "code",
   "execution_count": 3,
   "metadata": {
    "ExecuteTime": {
     "end_time": "2019-04-27T19:05:40.762741Z",
     "start_time": "2019-04-27T19:05:40.758632Z"
    }
   },
   "outputs": [],
   "source": [
    "class NormalizedActions(gym.ActionWrapper):\n",
    "\n",
    "    def _action(self, action):\n",
    "        low_bound   = self.action_space.low\n",
    "        upper_bound = self.action_space.high\n",
    "        \n",
    "        action = low_bound + (action + 1.0) * 0.5 * (upper_bound - low_bound)\n",
    "        action = np.clip(action, low_bound, upper_bound)\n",
    "        \n",
    "        return action\n",
    "\n",
    "    def _reverse_action(self, action):\n",
    "        low_bound   = self.action_space.low\n",
    "        upper_bound = self.action_space.high\n",
    "        \n",
    "        action = 2.0 * (action - low_bound) / (upper_bound - low_bound) - 1.0\n",
    "        action = np.clip(action, low_bound, upper_bound)\n",
    "        \n",
    "        return actions"
   ]
  },
  {
   "cell_type": "code",
   "execution_count": 4,
   "metadata": {
    "ExecuteTime": {
     "end_time": "2019-04-27T19:05:40.774598Z",
     "start_time": "2019-04-27T19:05:40.764130Z"
    }
   },
   "outputs": [
    {
     "name": "stderr",
     "output_type": "stream",
     "text": [
      "/home/anon/src/gym/gym/logger.py:30: UserWarning: \u001b[33mWARN: gym.spaces.Box autodetected dtype as <class 'numpy.float32'>. Please provide explicit dtype.\u001b[0m\n",
      "  warnings.warn(colorize('%s: %s'%('WARN', msg % args), 'yellow'))\n",
      "/home/anon/src/gym/gym/logger.py:30: UserWarning: \u001b[33mWARN: Environment '<class 'roboschool.gym_pendulums.RoboschoolInvertedPendulumSwingup'>' has deprecated methods '_step' and '_reset' rather than 'step' and 'reset'. Compatibility code invoked. Set _gym_disable_underscore_compat = True to disable this behavior.\u001b[0m\n",
      "  warnings.warn(colorize('%s: %s'%('WARN', msg % args), 'yellow'))\n"
     ]
    }
   ],
   "source": [
    "from multiprocessing_env import SubprocVecEnv\n",
    "env_name = \"RoboschoolInvertedPendulumSwingup-v1\"\n",
    "env = NormalizedActions(gym.make(env_name))\n",
    "\n",
    "num_states  = env.observation_space.shape[0]\n",
    "num_actions = env.action_space.shape[0]"
   ]
  },
  {
   "cell_type": "code",
   "execution_count": 5,
   "metadata": {
    "ExecuteTime": {
     "end_time": "2019-04-27T19:05:40.781204Z",
     "start_time": "2019-04-27T19:05:40.776011Z"
    }
   },
   "outputs": [],
   "source": [
    "class ReplayBuffer:\n",
    "    def __init__(self, capacity):\n",
    "        self.capacity = capacity\n",
    "        self.buffer = []\n",
    "        self.position = 0\n",
    "    \n",
    "    def push(self, state, action, reward, next_state, done):\n",
    "        if len(self.buffer) < self.capacity:\n",
    "            self.buffer.append(None)\n",
    "        self.buffer[self.position] = (state, action, reward, next_state, done)\n",
    "        self.position = (self.position + 1) % self.capacity\n",
    "    \n",
    "    def sample(self, batch_size):\n",
    "        batch = random.sample(self.buffer, batch_size)\n",
    "        state, action, reward, next_state, done = map(np.stack, zip(*batch))\n",
    "        return state, action, reward, next_state, done\n",
    "    \n",
    "    def __len__(self):\n",
    "        return len(self.buffer)"
   ]
  },
  {
   "cell_type": "code",
   "execution_count": 6,
   "metadata": {
    "ExecuteTime": {
     "end_time": "2019-04-27T19:05:40.788757Z",
     "start_time": "2019-04-27T19:05:40.782678Z"
    }
   },
   "outputs": [],
   "source": [
    "class OUNoise(object):\n",
    "    def __init__(self, action_space, mu=0.0, theta=0.15, max_sigma=0.3, min_sigma=0.3, decay_period=100000):\n",
    "        self.mu           = mu\n",
    "        self.theta        = theta\n",
    "        self.sigma        = max_sigma\n",
    "        self.max_sigma    = max_sigma\n",
    "        self.min_sigma    = min_sigma\n",
    "        self.decay_period = decay_period\n",
    "        self.action_dim   = action_space.shape[0]\n",
    "        self.low          = action_space.low\n",
    "        self.high         = action_space.high\n",
    "        self.reset()\n",
    "        \n",
    "    def reset(self):\n",
    "        self.state = np.ones(self.action_dim) * self.mu\n",
    "        \n",
    "    def evolve_state(self):\n",
    "        x  = self.state\n",
    "        dx = self.theta * (self.mu - x) + self.sigma * np.random.randn(self.action_dim)\n",
    "        self.state = x + dx\n",
    "        return self.state\n",
    "    \n",
    "    def get_action(self, action, t=0):\n",
    "        ou_state = self.evolve_state()\n",
    "        self.sigma = self.max_sigma - (self.max_sigma - self.min_sigma) * min(1.0, t / self.decay_period)\n",
    "        return np.clip(action + ou_state, self.low, self.high)\n",
    "    \n",
    "#https://github.com/vitchyr/rlkit/blob/master/rlkit/exploration_strategies/ou_strategy.py"
   ]
  },
  {
   "cell_type": "code",
   "execution_count": 7,
   "metadata": {
    "ExecuteTime": {
     "end_time": "2019-04-27T19:05:40.797818Z",
     "start_time": "2019-04-27T19:05:40.790602Z"
    }
   },
   "outputs": [],
   "source": [
    "def init_param(scale, layer_sizes, rs=npr.RandomState(0)):\n",
    "    return [[rs.randn(insize, outsize) * scale, \n",
    "             rs.randn(outsize) * scale]\n",
    "            for insize, outsize in zip(layer_sizes[:-1], layer_sizes[1:])]\n",
    "\n",
    "def relu(x):\n",
    "    return np.maximum(x, 0.)\n",
    "\n",
    "def Qfunc(params, s, a): # Q function\n",
    "    q_params = params['q_params']\n",
    "    q = np.concatenate((s, a), -1)\n",
    "    for W, b in q_params[:-1]:\n",
    "        q = np.dot(q, W) + b\n",
    "        q = relu(q)\n",
    "    W, b = q_params[-1]\n",
    "    return np.dot(q, W) + b\n",
    "\n",
    "def policy(params, s):\n",
    "    p_params = params['policy_params']\n",
    "    a = s\n",
    "    for W, b in p_params[:-1]:\n",
    "        a = np.dot(a, W) + b\n",
    "        a = relu(a)\n",
    "    W, b = p_params[-1]\n",
    "    a = np.dot(a, W) + b\n",
    "    return np.tanh(a)"
   ]
  },
  {
   "cell_type": "code",
   "execution_count": 8,
   "metadata": {
    "ExecuteTime": {
     "end_time": "2019-04-27T19:05:40.809477Z",
     "start_time": "2019-04-27T19:05:40.799602Z"
    }
   },
   "outputs": [],
   "source": [
    "def obj(x, states, actions, targets, fixed_params):\n",
    "    q_targets = Qfunc(x, states, actions)\n",
    "    policy_loss = Qfunc(fixed_params, states, policy(x, states))\n",
    "    return np.mean(np.square(q_targets - targets)) - np.mean(policy_loss)\n",
    "\n",
    "grad_obj = grad(obj)\n",
    "\n",
    "def collect_trajectories(x):\n",
    "    global frame_idx\n",
    "    while True:\n",
    "        ou_noise.reset()\n",
    "        state = env.reset()\n",
    "        episode_reward = 0\n",
    "        for t in range(tf):\n",
    "            # get an action and apply exploration noise \n",
    "            action = policy(x, state) \n",
    "            action = ou_noise.get_action(action, t)\n",
    "\n",
    "            # step forward\n",
    "            next_state, reward, done, _ = env.step(action)\n",
    "            replay_buffer.push(state, action, reward, next_state, done)\n",
    "            state = next_state\n",
    "            episode_reward += reward\n",
    "            frame_idx += 1\n",
    "            if frame_idx % 1000 == 0:\n",
    "                plot(frame_idx, reward_history)\n",
    "            if done:\n",
    "                break\n",
    "        reward_history.append(episode_reward)\n",
    "        if len(replay_buffer) > batch_size:\n",
    "            break\n",
    "            \n",
    "def ddp_update(x, k):\n",
    "    collect_trajectories(x)\n",
    "    states, actions, rewards, next_states, done = replay_buffer.sample(batch_size)\n",
    "    done = done.reshape((-1,1))\n",
    "    rewards = rewards.reshape((-1,1))\n",
    "    values = Qfunc(x, next_states, policy(x, next_states))\n",
    "    targets = rewards +  (1.0 - done) * gamma * values\n",
    "    return grad_obj(x, states, actions, targets, deepcopy(x))\n",
    "\n",
    "def callback(x, i, g):\n",
    "    if i % 10 == 0:\n",
    "        g_flat, _ = flatten(g)\n",
    "        print('iter : {}, grad norm : {}'.format(i, np.linalg.norm(g_flat)))\n",
    "\n",
    "def plot(frame_idx, rewards):\n",
    "    clear_output(True)\n",
    "    plt.figure(figsize=(20,5))\n",
    "    plt.subplot(131)\n",
    "    plt.title('frame %s. reward: %s' % (frame_idx, rewards[-1]))\n",
    "    plt.plot(rewards)\n",
    "    plt.show()"
   ]
  },
  {
   "cell_type": "code",
   "execution_count": 9,
   "metadata": {
    "ExecuteTime": {
     "end_time": "2019-04-27T19:06:09.319369Z",
     "start_time": "2019-04-27T19:05:40.810777Z"
    }
   },
   "outputs": [
    {
     "data": {
      "image/png": "[encoded data removed]",
      "text/plain": [
       "<Figure size 1440x360 with 1 Axes>"
      ]
     },
     "metadata": {
      "needs_background": "light"
     },
     "output_type": "display_data"
    }
   ],
   "source": [
    "tf = 400\n",
    "batch_size = 128\n",
    "replay_buffer_size = 100000\n",
    "replay_buffer = ReplayBuffer(replay_buffer_size)\n",
    "rho = 0.95\n",
    "gamma = 0.99\n",
    "\n",
    "policy_sizes = [num_states] + [56, 56] + [num_actions]\n",
    "qfun_sizes = [num_states+num_actions] + [256, 256] + [1]\n",
    "\n",
    "params = {\n",
    "    'policy_params' : init_param(0.1, policy_sizes),\n",
    "    'q_params' : init_param(0.1, qfun_sizes)\n",
    "}\n",
    "\n",
    "\n",
    "\n",
    "target_params = deepcopy(params)\n",
    "\n",
    "ou_noise = OUNoise(env.action_space)\n",
    "\n",
    "reward_history = []\n",
    "frame_idx = 0\n",
    "max_frame = 80000\n",
    "\n",
    "params = sgd(ddp_update, params, \n",
    "                 num_iters=200,\n",
    "                 callback=callback, \n",
    "                 step_size=1e-6)\n",
    "## TODO: Figure out where the error is with this method....\n",
    "#         flat_param, _ = flatten(params)\n",
    "#         flat_target_params, unflatten_tp = flatten(target_params)\n",
    "#         flat_target_params = rho * flat_target_params + (1.0 - rho) * flat_param\n",
    "#         target_params = deepcopy(unflatten_tp(flat_target_params))\n",
    "    "
   ]
  },
  {
   "cell_type": "code",
   "execution_count": 10,
   "metadata": {
    "ExecuteTime": {
     "end_time": "2019-04-27T19:06:09.324031Z",
     "start_time": "2019-04-27T19:06:09.321261Z"
    }
   },
   "outputs": [],
   "source": [
    "# params = sgd(update, params, \n",
    "#              num_iters=1000,\n",
    "#              callback=callback, \n",
    "#              step_size=0.1)"
   ]
  },
  {
   "cell_type": "code",
   "execution_count": 11,
   "metadata": {
    "ExecuteTime": {
     "end_time": "2019-04-27T19:06:09.332604Z",
     "start_time": "2019-04-27T19:06:09.325665Z"
    }
   },
   "outputs": [],
   "source": [
    "# frame_idx = 0\n",
    "# for _ in range(100000):\n",
    "#     ou_noise.reset()\n",
    "#     state = env.reset()\n",
    "#     episode_reward = 0\n",
    "\n",
    "#     for t in range(tf):\n",
    "\n",
    "#         # get an action and apply exploration noise \n",
    "#         a = policy(params, state) \n",
    "#         a = ou_noise.get_action(a, t)\n",
    "\n",
    "#         # step forward\n",
    "#         next_state, reward, done, _ = env.step(a)\n",
    "#         replay_buffer.push(state, a, reward, next_state, 1-done)\n",
    "#         # store the next state, reward and mask    \n",
    "#         # reset the state\n",
    "#         state = next_state\n",
    "\n",
    "#         episode_reward += reward\n",
    "#         frame_idx += 1\n",
    "#         if frame_idx % max(1000, tf + 1) == 0:\n",
    "#             plot(frame_idx, reward_history)\n",
    "#         if done:\n",
    "#             break\n",
    "#     reward_history.append(episode_reward)\n",
    "\n",
    "#     if len(replay_buffer) > batch_size: \n",
    "#         states, actions, rewards, next_states, masks = replay_buffer.sample(batch_size)\n",
    "#         values = Qfunc(target_params, next_states, \n",
    "#                         policy(target_params, next_states)).squeeze()\n",
    "#         targets = rewards + gamma * masks * values\n",
    "#         targets = np.clip(targets, -np.inf, np.inf)\n",
    "\n",
    "#         p_grad = lambda x,k : grad_policy_obj(x, states, actions,  deepcopy(params))\n",
    "#         q_grad = lambda x,k : grad_value_obj(x, states, actions, targets)\n",
    "\n",
    "#         params = sgd(q_grad, params, \n",
    "#                      num_iters=20,\n",
    "#                      step_size=1e-3)\n",
    "#         params = sgd(p_grad, params, \n",
    "#                      num_iters=20,\n",
    "#                      step_size=1e-5)\n",
    "#         flat_param, _ = flatten(params)\n",
    "#         flat_target_params, unflatten_tp = flatten(target_params)\n",
    "\n",
    "#         flat_target_params = rho * flat_target_params + (1.0 - rho) * flat_param\n",
    "\n",
    "#         target_params = unflatten_tp(flat_target_params.copy())"
   ]
  },
  {
   "cell_type": "code",
   "execution_count": 12,
   "metadata": {
    "ExecuteTime": {
     "end_time": "2019-04-27T19:06:16.166562Z",
     "start_time": "2019-04-27T19:06:09.334303Z"
    }
   },
   "outputs": [],
   "source": [
    "state = env.reset()\n",
    "for t in range(tf):\n",
    "    a = policy(params, state) \n",
    "    a += npr.normal(0., 0.1, size=a.shape)\n",
    "    state, reward, done, _ = env.step(a)\n",
    "    env.render()\n",
    "#     if done : break"
   ]
  },
  {
   "cell_type": "code",
   "execution_count": null,
   "metadata": {},
   "outputs": [],
   "source": []
  }
 ],
 "metadata": {
  "kernelspec": {
   "display_name": "Python 3",
   "language": "python",
   "name": "python3"
  },
  "language_info": {
   "codemirror_mode": {
    "name": "ipython",
    "version": 3
   },
   "file_extension": ".py",
   "mimetype": "text/x-python",
   "name": "python",
   "nbconvert_exporter": "python",
   "pygments_lexer": "ipython3",
   "version": "3.6.7"
  },
  "toc": {
   "base_numbering": 1,
   "nav_menu": {},
   "number_sections": true,
   "sideBar": true,
   "skip_h1_title": true,
   "title_cell": "Table of Contents",
   "title_sidebar": "Contents",
   "toc_cell": false,
   "toc_position": {},
   "toc_section_display": true,
   "toc_window_display": false
  }
 },
 "nbformat": 4,
 "nbformat_minor": 2
}
