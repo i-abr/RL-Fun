{
 "cells": [
  {
   "cell_type": "code",
   "execution_count": 1,
   "metadata": {
    "ExecuteTime": {
     "end_time": "2019-04-27T21:13:41.876621Z",
     "start_time": "2019-04-27T21:13:41.636735Z"
    }
   },
   "outputs": [],
   "source": [
    "import random\n",
    "from copy import deepcopy\n",
    "import autograd.numpy as np\n",
    "import autograd.numpy.random as npr\n",
    "import autograd.scipy.stats.norm as norm\n",
    "from autograd import grad\n",
    "from autograd.misc import flatten\n",
    "\n",
    "from autograd.misc.optimizers import SGD\n",
    "\n",
    "import gym\n",
    "import roboschool"
   ]
  },
  {
   "cell_type": "code",
   "execution_count": 2,
   "metadata": {
    "ExecuteTime": {
     "end_time": "2019-04-27T21:13:42.013927Z",
     "start_time": "2019-04-27T21:13:41.878414Z"
    }
   },
   "outputs": [],
   "source": [
    "from IPython.display import clear_output\n",
    "import matplotlib.pyplot as plt\n",
    "%matplotlib inline"
   ]
  },
  {
   "cell_type": "code",
   "execution_count": 3,
   "metadata": {
    "ExecuteTime": {
     "end_time": "2019-04-27T21:13:42.020899Z",
     "start_time": "2019-04-27T21:13:42.015936Z"
    }
   },
   "outputs": [],
   "source": [
    "class NormalizedActions(gym.ActionWrapper):\n",
    "\n",
    "    def _action(self, action):\n",
    "        low_bound   = self.action_space.low\n",
    "        upper_bound = self.action_space.high\n",
    "        \n",
    "        action = low_bound + (action + 1.0) * 0.5 * (upper_bound - low_bound)\n",
    "        action = np.clip(action, low_bound, upper_bound)\n",
    "        \n",
    "        return action\n",
    "\n",
    "    def _reverse_action(self, action):\n",
    "        low_bound   = self.action_space.low\n",
    "        upper_bound = self.action_space.high\n",
    "        \n",
    "        action = 2.0 * (action - low_bound) / (upper_bound - low_bound) - 1.0\n",
    "        action = np.clip(action, low_bound, upper_bound)\n",
    "        \n",
    "        return actions"
   ]
  },
  {
   "cell_type": "code",
   "execution_count": 4,
   "metadata": {
    "ExecuteTime": {
     "end_time": "2019-04-27T21:13:42.036072Z",
     "start_time": "2019-04-27T21:13:42.022737Z"
    }
   },
   "outputs": [
    {
     "name": "stderr",
     "output_type": "stream",
     "text": [
      "/home/anon/src/gym/gym/logger.py:30: UserWarning: \u001b[33mWARN: gym.spaces.Box autodetected dtype as <class 'numpy.float32'>. Please provide explicit dtype.\u001b[0m\n",
      "  warnings.warn(colorize('%s: %s'%('WARN', msg % args), 'yellow'))\n",
      "/home/anon/src/gym/gym/logger.py:30: UserWarning: \u001b[33mWARN: Environment '<class 'roboschool.gym_pendulums.RoboschoolInvertedPendulumSwingup'>' has deprecated methods '_step' and '_reset' rather than 'step' and 'reset'. Compatibility code invoked. Set _gym_disable_underscore_compat = True to disable this behavior.\u001b[0m\n",
      "  warnings.warn(colorize('%s: %s'%('WARN', msg % args), 'yellow'))\n"
     ]
    }
   ],
   "source": [
    "from multiprocessing_env import SubprocVecEnv\n",
    "# env_name = \"RoboschoolInvertedPendulumSwingup-v1\"\n",
    "env_name = \"RoboschoolInvertedPendulum-v1\"\n",
    "\n",
    "env = NormalizedActions(gym.make(env_name))\n",
    "\n",
    "num_states  = env.observation_space.shape[0]\n",
    "num_actions = env.action_space.shape[0]"
   ]
  },
  {
   "cell_type": "code",
   "execution_count": 5,
   "metadata": {
    "ExecuteTime": {
     "end_time": "2019-04-27T21:13:42.044102Z",
     "start_time": "2019-04-27T21:13:42.038477Z"
    }
   },
   "outputs": [],
   "source": [
    "class ReplayBuffer:\n",
    "    def __init__(self, capacity):\n",
    "        self.capacity = capacity\n",
    "        self.buffer = []\n",
    "        self.position = 0\n",
    "    \n",
    "    def push(self, state, action, reward, next_state, done):\n",
    "        if len(self.buffer) < self.capacity:\n",
    "            self.buffer.append(None)\n",
    "        self.buffer[self.position] = (state, action, reward, next_state, done)\n",
    "        self.position = (self.position + 1) % self.capacity\n",
    "    \n",
    "    def sample(self, batch_size):\n",
    "        batch = random.sample(self.buffer, batch_size)\n",
    "        state, action, reward, next_state, done = map(np.stack, zip(*batch))\n",
    "        return state, action, reward, next_state, done\n",
    "    \n",
    "    def __len__(self):\n",
    "        return len(self.buffer)"
   ]
  },
  {
   "cell_type": "code",
   "execution_count": 6,
   "metadata": {
    "ExecuteTime": {
     "end_time": "2019-04-27T21:13:42.053561Z",
     "start_time": "2019-04-27T21:13:42.046683Z"
    }
   },
   "outputs": [],
   "source": [
    "class OUNoise(object):\n",
    "    def __init__(self, action_space, mu=0.0, theta=0.15, max_sigma=0.3, min_sigma=0.3, decay_period=100000):\n",
    "        self.mu           = mu\n",
    "        self.theta        = theta\n",
    "        self.sigma        = max_sigma\n",
    "        self.max_sigma    = max_sigma\n",
    "        self.min_sigma    = min_sigma\n",
    "        self.decay_period = decay_period\n",
    "        self.action_dim   = action_space.shape[0]\n",
    "        self.low          = action_space.low\n",
    "        self.high         = action_space.high\n",
    "        self.reset()\n",
    "        \n",
    "    def reset(self):\n",
    "        self.state = np.ones(self.action_dim) * self.mu\n",
    "        \n",
    "    def evolve_state(self):\n",
    "        x  = self.state\n",
    "        dx = self.theta * (self.mu - x) + self.sigma * np.random.randn(self.action_dim)\n",
    "        self.state = x + dx\n",
    "        return self.state\n",
    "    \n",
    "    def get_action(self, action, t=0):\n",
    "        ou_state = self.evolve_state()\n",
    "        self.sigma = self.max_sigma - (self.max_sigma - self.min_sigma) * min(1.0, t / self.decay_period)\n",
    "        return np.clip(action + ou_state, self.low, self.high)\n",
    "    \n",
    "#https://github.com/vitchyr/rlkit/blob/master/rlkit/exploration_strategies/ou_strategy.py"
   ]
  },
  {
   "cell_type": "code",
   "execution_count": 7,
   "metadata": {
    "ExecuteTime": {
     "end_time": "2019-04-27T21:13:42.063110Z",
     "start_time": "2019-04-27T21:13:42.055317Z"
    }
   },
   "outputs": [],
   "source": [
    "def init_param(scale, layer_sizes, rs=npr):#.RandomState(345)):\n",
    "    return [[rs.randn(insize, outsize) * scale, \n",
    "             rs.randn(outsize) * scale]\n",
    "            for insize, outsize in zip(layer_sizes[:-1], layer_sizes[1:])]\n",
    "\n",
    "def relu(x):\n",
    "    return np.maximum(x, 0.)\n",
    "\n",
    "def Qfunc(q_params, s, a): # Q function\n",
    "    q = np.concatenate((s, a), -1)\n",
    "    for W, b in q_params[:-1]:\n",
    "        q = np.dot(q, W) + b\n",
    "        q = relu(q)\n",
    "    W, b = q_params[-1]\n",
    "    return np.dot(q, W) + b\n",
    "\n",
    "def policy(p_params, s):\n",
    "    a = s\n",
    "    for W, b in p_params[:-1]:\n",
    "        a = np.dot(a, W) + b\n",
    "        a = relu(a)\n",
    "    W, b = p_params[-1]\n",
    "    a = np.dot(a, W) + b\n",
    "    return np.tanh(a)"
   ]
  },
  {
   "cell_type": "code",
   "execution_count": 8,
   "metadata": {
    "ExecuteTime": {
     "end_time": "2019-04-27T21:13:42.070379Z",
     "start_time": "2019-04-27T21:13:42.064551Z"
    }
   },
   "outputs": [],
   "source": [
    "def value_loss(x, states, actions, targets):\n",
    "    values = Qfunc(x, states, actions)\n",
    "    return np.mean(np.square(values - targets))\n",
    "def policy_loss(x, states, _value_params):\n",
    "    policy_loss = Qfunc(_value_params, states, policy(x, states))\n",
    "    return -np.mean(policy_loss)\n",
    "\n",
    "grad_value_loss = grad(value_loss)\n",
    "grad_policy_loss = grad(policy_loss)\n",
    "\n",
    "def plot(frame_idx, rewards):\n",
    "    clear_output(True)\n",
    "    plt.figure(figsize=(20,5))\n",
    "    plt.subplot(131)\n",
    "    plt.title('frame %s. reward: %s' % (frame_idx, rewards[-1]))\n",
    "    plt.plot(rewards)\n",
    "    plt.show()"
   ]
  },
  {
   "cell_type": "code",
   "execution_count": 9,
   "metadata": {
    "ExecuteTime": {
     "end_time": "2019-04-27T21:21:45.011434Z",
     "start_time": "2019-04-27T21:13:42.071946Z"
    },
    "scrolled": true
   },
   "outputs": [
    {
     "data": {
      "image/png": "[encoded data removed]",
      "text/plain": [
       "<Figure size 1440x360 with 1 Axes>"
      ]
     },
     "metadata": {
      "needs_background": "light"
     },
     "output_type": "display_data"
    },
    {
     "ename": "KeyboardInterrupt",
     "evalue": "",
     "output_type": "error",
     "traceback": [
      "\u001b[0;31m---------------------------------------------------------------------------\u001b[0m",
      "\u001b[0;31mKeyboardInterrupt\u001b[0m                         Traceback (most recent call last)",
      "\u001b[0;32m<ipython-input-9-605662a7bdf7>\u001b[0m in \u001b[0;36m<module>\u001b[0;34m\u001b[0m\n\u001b[1;32m     55\u001b[0m             \u001b[0mdones\u001b[0m \u001b[0;34m=\u001b[0m \u001b[0mdones\u001b[0m\u001b[0;34m.\u001b[0m\u001b[0mreshape\u001b[0m\u001b[0;34m(\u001b[0m\u001b[0;34m(\u001b[0m\u001b[0;34m-\u001b[0m\u001b[0;36m1\u001b[0m\u001b[0;34m,\u001b[0m\u001b[0;36m1\u001b[0m\u001b[0;34m)\u001b[0m\u001b[0;34m)\u001b[0m\u001b[0;34m\u001b[0m\u001b[0;34m\u001b[0m\u001b[0m\n\u001b[1;32m     56\u001b[0m             values = Qfunc(target_value_params, next_states, \n\u001b[0;32m---> 57\u001b[0;31m                             policy(target_policy_params, next_states))\n\u001b[0m\u001b[1;32m     58\u001b[0m             \u001b[0mtargets\u001b[0m \u001b[0;34m=\u001b[0m \u001b[0mrewards\u001b[0m \u001b[0;34m+\u001b[0m \u001b[0mgamma\u001b[0m \u001b[0;34m*\u001b[0m \u001b[0;34m(\u001b[0m\u001b[0;36m1.0\u001b[0m \u001b[0;34m-\u001b[0m \u001b[0mdones\u001b[0m\u001b[0;34m)\u001b[0m \u001b[0;34m*\u001b[0m \u001b[0mvalues\u001b[0m\u001b[0;34m\u001b[0m\u001b[0;34m\u001b[0m\u001b[0m\n\u001b[1;32m     59\u001b[0m \u001b[0;31m#             targets = np.clip(targets, -np.inf, np.inf)\u001b[0m\u001b[0;34m\u001b[0m\u001b[0;34m\u001b[0m\u001b[0;34m\u001b[0m\u001b[0m\n",
      "\u001b[0;32m<ipython-input-7-714d8be745f3>\u001b[0m in \u001b[0;36mpolicy\u001b[0;34m(p_params, s)\u001b[0m\n\u001b[1;32m     21\u001b[0m         \u001b[0ma\u001b[0m \u001b[0;34m=\u001b[0m \u001b[0mrelu\u001b[0m\u001b[0;34m(\u001b[0m\u001b[0ma\u001b[0m\u001b[0;34m)\u001b[0m\u001b[0;34m\u001b[0m\u001b[0;34m\u001b[0m\u001b[0m\n\u001b[1;32m     22\u001b[0m     \u001b[0mW\u001b[0m\u001b[0;34m,\u001b[0m \u001b[0mb\u001b[0m \u001b[0;34m=\u001b[0m \u001b[0mp_params\u001b[0m\u001b[0;34m[\u001b[0m\u001b[0;34m-\u001b[0m\u001b[0;36m1\u001b[0m\u001b[0;34m]\u001b[0m\u001b[0;34m\u001b[0m\u001b[0;34m\u001b[0m\u001b[0m\n\u001b[0;32m---> 23\u001b[0;31m     \u001b[0ma\u001b[0m \u001b[0;34m=\u001b[0m \u001b[0mnp\u001b[0m\u001b[0;34m.\u001b[0m\u001b[0mdot\u001b[0m\u001b[0;34m(\u001b[0m\u001b[0ma\u001b[0m\u001b[0;34m,\u001b[0m \u001b[0mW\u001b[0m\u001b[0;34m)\u001b[0m \u001b[0;34m+\u001b[0m \u001b[0mb\u001b[0m\u001b[0;34m\u001b[0m\u001b[0;34m\u001b[0m\u001b[0m\n\u001b[0m\u001b[1;32m     24\u001b[0m     \u001b[0;32mreturn\u001b[0m \u001b[0mnp\u001b[0m\u001b[0;34m.\u001b[0m\u001b[0mtanh\u001b[0m\u001b[0;34m(\u001b[0m\u001b[0ma\u001b[0m\u001b[0;34m)\u001b[0m\u001b[0;34m\u001b[0m\u001b[0;34m\u001b[0m\u001b[0m\n",
      "\u001b[0;32m~/src/autograd/autograd/tracer.py\u001b[0m in \u001b[0;36mf_wrapped\u001b[0;34m(*args, **kwargs)\u001b[0m\n\u001b[1;32m     46\u001b[0m             \u001b[0;32mreturn\u001b[0m \u001b[0mnew_box\u001b[0m\u001b[0;34m(\u001b[0m\u001b[0mans\u001b[0m\u001b[0;34m,\u001b[0m \u001b[0mtrace\u001b[0m\u001b[0;34m,\u001b[0m \u001b[0mnode\u001b[0m\u001b[0;34m)\u001b[0m\u001b[0;34m\u001b[0m\u001b[0;34m\u001b[0m\u001b[0m\n\u001b[1;32m     47\u001b[0m         \u001b[0;32melse\u001b[0m\u001b[0;34m:\u001b[0m\u001b[0;34m\u001b[0m\u001b[0;34m\u001b[0m\u001b[0m\n\u001b[0;32m---> 48\u001b[0;31m             \u001b[0;32mreturn\u001b[0m \u001b[0mf_raw\u001b[0m\u001b[0;34m(\u001b[0m\u001b[0;34m*\u001b[0m\u001b[0margs\u001b[0m\u001b[0;34m,\u001b[0m \u001b[0;34m**\u001b[0m\u001b[0mkwargs\u001b[0m\u001b[0;34m)\u001b[0m\u001b[0;34m\u001b[0m\u001b[0;34m\u001b[0m\u001b[0m\n\u001b[0m\u001b[1;32m     49\u001b[0m     \u001b[0mf_wrapped\u001b[0m\u001b[0;34m.\u001b[0m\u001b[0mfun\u001b[0m \u001b[0;34m=\u001b[0m \u001b[0mf_raw\u001b[0m\u001b[0;34m\u001b[0m\u001b[0;34m\u001b[0m\u001b[0m\n\u001b[1;32m     50\u001b[0m     \u001b[0mf_wrapped\u001b[0m\u001b[0;34m.\u001b[0m\u001b[0m_is_autograd_primitive\u001b[0m \u001b[0;34m=\u001b[0m \u001b[0;32mTrue\u001b[0m\u001b[0;34m\u001b[0m\u001b[0;34m\u001b[0m\u001b[0m\n",
      "\u001b[0;31mKeyboardInterrupt\u001b[0m: "
     ]
    }
   ],
   "source": [
    "tf = 500\n",
    "batch_size = 128\n",
    "replay_buffer_size = 1000000\n",
    "replay_buffer = ReplayBuffer(replay_buffer_size)\n",
    "rho = 0.8\n",
    "gamma = 0.99\n",
    "\n",
    "policy_sizes = [num_states] + [256, 256] + [num_actions]\n",
    "value_sizes = [num_states+num_actions] + [256, 256] + [1]\n",
    "\n",
    "# init_w = 3e-3\n",
    "policy_params = init_param(0.1, policy_sizes)\n",
    "# W,b = policy_params[-1]\n",
    "# W = npr.uniform(-init_w, init_w, size=W.shape)\n",
    "# b = npr.uniform(-init_w, init_w, size=b.shape)\n",
    "# policy_params[-1] = [W, b]\n",
    "\n",
    "value_params = init_param(0.1, value_sizes)\n",
    "# W,b = value_params[-1]\n",
    "# W = npr.uniform(-init_w, init_w, size=W.shape)\n",
    "# b = npr.uniform(-init_w, init_w, size=b.shape)\n",
    "# value_params[-1] = [W, b]\n",
    "\n",
    "target_policy_params = deepcopy(policy_params)\n",
    "target_value_params = deepcopy(value_params)\n",
    "\n",
    "\n",
    "policy_optimizer = SGD(policy_params, step_size=1e-3)\n",
    "value_optimizer = SGD(value_params, step_size=1e-3)\n",
    "\n",
    "ou_noise = OUNoise(env.action_space)\n",
    "\n",
    "reward_history = []\n",
    "max_frame = 20000\n",
    "frame_idx = 0\n",
    "while frame_idx < max_frame:\n",
    "\n",
    "    state = env.reset()\n",
    "    ou_noise.reset()\n",
    "    episode_reward = 0\n",
    "\n",
    "    for t in range(tf):\n",
    "        action = policy(policy_params, state) \n",
    "        action = ou_noise.get_action(action, t)\n",
    "        # step forward\n",
    "        next_state, reward, done, _ = env.step(action)\n",
    "        replay_buffer.push(state, action, reward, next_state, done)\n",
    "        \n",
    "        if len(replay_buffer) > batch_size:\n",
    "            states, actions, rewards, next_states, dones = replay_buffer.sample(batch_size)\n",
    "            rewards = rewards.reshape((-1,1))\n",
    "            dones = dones.reshape((-1,1))\n",
    "            values = Qfunc(target_value_params, next_states, \n",
    "                            policy(target_policy_params, next_states))\n",
    "            targets = rewards + gamma * (1.0 - dones) * values\n",
    "#             targets = np.clip(targets, -np.inf, np.inf)\n",
    "            policy_update = lambda x, i: grad_policy_loss(x, states, value_params)\n",
    "            value_update = lambda x, i: grad_value_loss(x, states, actions, targets)\n",
    "\n",
    "            policy_params = policy_optimizer.step(policy_update, policy_params)\n",
    "            value_params = value_optimizer.step(value_update, value_params)\n",
    "            \n",
    "            _target_policy_params, unflatten_policy = flatten(target_policy_params)\n",
    "            _target_value_params, unflatten_value = flatten(target_value_params)\n",
    "            \n",
    "            _policy_params, _ = flatten(policy_params)\n",
    "            _value_params, _ = flatten(value_params)\n",
    "            \n",
    "            _target_policy_params = rho * _target_policy_params \\\n",
    "                                        + (1.0-rho)*_policy_params\n",
    "            _target_value_params = rho * _target_value_params \\\n",
    "                                        + (1.0-rho)*_value_params\n",
    "            \n",
    "            target_value_params = unflatten_value(_target_value_params.copy())\n",
    "            target_policy_params = unflatten_policy(_target_policy_params.copy())\n",
    "            \n",
    "            \n",
    "            \n",
    "        state = next_state\n",
    "        episode_reward += reward\n",
    "        frame_idx += 1\n",
    "        \n",
    "        if frame_idx % max(1000, tf+1) == 0:\n",
    "            plot(frame_idx, reward_history)\n",
    "        \n",
    "        if done:\n",
    "            break\n",
    "    reward_history.append(episode_reward)\n",
    "    "
   ]
  },
  {
   "cell_type": "code",
   "execution_count": 10,
   "metadata": {
    "ExecuteTime": {
     "end_time": "2019-04-27T21:21:54.741749Z",
     "start_time": "2019-04-27T21:21:46.216624Z"
    }
   },
   "outputs": [],
   "source": [
    "state = env.reset()\n",
    "for t in range(tf):\n",
    "    a = policy(policy_params, state) \n",
    "    state, reward, done, _ = env.step(a)\n",
    "    env.render()"
   ]
  },
  {
   "cell_type": "code",
   "execution_count": null,
   "metadata": {
    "ExecuteTime": {
     "end_time": "2019-04-27T21:21:45.014761Z",
     "start_time": "2019-04-27T21:13:41.664Z"
    }
   },
   "outputs": [],
   "source": [
    "1-1e-2"
   ]
  },
  {
   "cell_type": "code",
   "execution_count": null,
   "metadata": {},
   "outputs": [],
   "source": []
  }
 ],
 "metadata": {
  "kernelspec": {
   "display_name": "Python 3",
   "language": "python",
   "name": "python3"
  },
  "language_info": {
   "codemirror_mode": {
    "name": "ipython",
    "version": 3
   },
   "file_extension": ".py",
   "mimetype": "text/x-python",
   "name": "python",
   "nbconvert_exporter": "python",
   "pygments_lexer": "ipython3",
   "version": "3.6.7"
  },
  "toc": {
   "base_numbering": 1,
   "nav_menu": {},
   "number_sections": true,
   "sideBar": true,
   "skip_h1_title": true,
   "title_cell": "Table of Contents",
   "title_sidebar": "Contents",
   "toc_cell": false,
   "toc_position": {},
   "toc_section_display": true,
   "toc_window_display": false
  }
 },
 "nbformat": 4,
 "nbformat_minor": 2
}
